{
 "cells": [
  {
   "cell_type": "code",
   "execution_count": 1,
   "metadata": {
    "collapsed": true
   },
   "outputs": [],
   "source": [
    "import pandas as pd\n",
    "# The Dataset comes from:\n",
    "# https://archive.ics.uci.edu/ml/datasets/Optical+Recognition+of+Handwritten+Digits\n",
    "# At face value, this looks like an easy lab;\n",
    "# But it has many parts to it, so prepare yourself before starting..."
   ]
  },
  {
   "cell_type": "code",
   "execution_count": 2,
   "metadata": {
    "collapsed": true
   },
   "outputs": [],
   "source": [
    "def load(path_test, path_train):\n",
    "  # Load up the data.\n",
    "  # You probably could have written this..\n",
    "  with open(path_test, 'r')  as f: testing  = pd.read_csv(f)\n",
    "  with open(path_train, 'r') as f: training = pd.read_csv(f)\n",
    "\n",
    "  # The number of samples between training and testing can vary\n",
    "  # But the number of features better remain the same!\n",
    "  n_features = testing.shape[1]\n",
    "\n",
    "  X_test  = testing.ix[:,:n_features-1]\n",
    "  X_train = training.ix[:,:n_features-1]\n",
    "  y_test  = testing.ix[:,n_features-1:].values.ravel()\n",
    "  y_train = training.ix[:,n_features-1:].values.ravel()\n",
    "\n",
    "  #\n",
    "  # Special:\n",
    "\n",
    "  return X_train, X_test, y_train, y_test"
   ]
  },
  {
   "cell_type": "code",
   "execution_count": 3,
   "metadata": {
    "collapsed": true
   },
   "outputs": [],
   "source": [
    "def peekData():\n",
    "  # The 'targets' or labels are stored in y. The 'samples' or data is stored in X\n",
    "  print \"Peeking your data...\"\n",
    "  fig = plt.figure()\n",
    "\n",
    "  cnt = 0\n",
    "  for col in range(5):\n",
    "    for row in range(10):\n",
    "      plt.subplot(5, 10, cnt + 1)\n",
    "      plt.imshow(X_train.ix[cnt,:].reshape(8,8), cmap=plt.cm.gray_r, interpolation='nearest')\n",
    "      plt.axis('off')\n",
    "      cnt += 1\n",
    "  fig.set_tight_layout(True)\n",
    "  plt.show()"
   ]
  },
  {
   "cell_type": "code",
   "execution_count": 23,
   "metadata": {
    "collapsed": true
   },
   "outputs": [],
   "source": [
    "def drawPredictions():\n",
    "  fig = plt.figure()\n",
    "\n",
    "  # Make some guesses\n",
    "  y_guess = model.predict(X_test)\n",
    "\n",
    "\n",
    "  #\n",
    "  # INFO: This is the second lab we're demonstrating how to\n",
    "  # do multi-plots using matplot lab. In the next assignment(s),\n",
    "  # it'll be your responsibility to use this and assignment #1\n",
    "  # as tutorials to add in the plotting code yourself!\n",
    "  num_rows = 10\n",
    "  num_cols = 5\n",
    "\n",
    "  index = 0\n",
    "  for col in range(num_cols):\n",
    "    for row in range(num_rows):\n",
    "      plt.subplot(num_cols, num_rows, index + 1)\n",
    "\n",
    "      # 8x8 is the size of the image, 64 pixels\n",
    "      plt.imshow(X_test.ix[index,:].reshape(8,8), cmap=plt.cm.gray_r, interpolation='nearest')\n",
    "\n",
    "      # Green = Guessed right\n",
    "      # Red = Fail!\n",
    "      fontcolor = 'g' if y_test[index] == y_guess[index] else 'r'\n",
    "      plt.title('Label: %i' % y_guess[index], fontsize=6, color=fontcolor)\n",
    "      plt.axis('off')\n",
    "      index += 1\n",
    "  fig.set_tight_layout(True)\n",
    "  plt.show()"
   ]
  },
  {
   "cell_type": "code",
   "execution_count": 5,
   "metadata": {
    "collapsed": false
   },
   "outputs": [],
   "source": [
    "#\n",
    "# TODO: Pass in the file paths to the .tes and the .tra files\n",
    "X_train, X_test, y_train, y_test = load('Datasets/optdigits.tra', 'Datasets/optdigits.tes')"
   ]
  },
  {
   "cell_type": "code",
   "execution_count": 6,
   "metadata": {
    "collapsed": false
   },
   "outputs": [
    {
     "name": "stderr",
     "output_type": "stream",
     "text": [
      "//anaconda/envs/python2/lib/python2.7/site-packages/matplotlib/font_manager.py:273: UserWarning: Matplotlib is building the font cache using fc-list. This may take a moment.\n",
      "  warnings.warn('Matplotlib is building the font cache using fc-list. This may take a moment.')\n"
     ]
    }
   ],
   "source": [
    "import matplotlib.pyplot as plt\n",
    "# from sklearn import svm"
   ]
  },
  {
   "cell_type": "code",
   "execution_count": 7,
   "metadata": {
    "collapsed": false
   },
   "outputs": [
    {
     "name": "stdout",
     "output_type": "stream",
     "text": [
      "Peeking your data...\n"
     ]
    },
    {
     "name": "stderr",
     "output_type": "stream",
     "text": [
      "/anaconda/envs/python2/lib/python2.7/site-packages/ipykernel/__main__.py:10: FutureWarning: reshape is deprecated and will raise in a subsequent release. Please use .values.reshape(...) instead\n",
      "//anaconda/envs/python2/lib/python2.7/site-packages/matplotlib/figure.py:1742: UserWarning: This figure includes Axes that are not compatible with tight_layout, so its results might be incorrect.\n",
      "  warnings.warn(\"This figure includes Axes that are not \"\n"
     ]
    },
    {
     "data": {
      "image/png": "[encoded data removed]",
      "text/plain": [
       "<matplotlib.figure.Figure at 0x10b9dae90>"
      ]
     },
     "metadata": {},
     "output_type": "display_data"
    }
   ],
   "source": [
    "# \n",
    "# Get to know your data. It seems its already well organized in\n",
    "# [n_samples, n_features] form. Our dataset looks like (4389, 784).\n",
    "# Also your labels are already shaped as [n_samples].\n",
    "peekData()"
   ]
  },
  {
   "cell_type": "code",
   "execution_count": 169,
   "metadata": {
    "collapsed": false
   },
   "outputs": [
    {
     "name": "stdout",
     "output_type": "stream",
     "text": [
      "Training SVC Classifier...\n",
      "Scoring SVC Classifier...\n",
      "Score:\n",
      "0.977498691784\n"
     ]
    }
   ],
   "source": [
    "#\n",
    "# TODO: Create an SVC classifier. Leave C=1, but set gamma to 0.001\n",
    "# and set the kernel to linear. Then train the model on the testing\n",
    "# data / labels:\n",
    "print \"Training SVC Classifier...\"\n",
    "#\n",
    "# .. your code here ..\n",
    "from sklearn.svm import SVC\n",
    "model = SVC(C=1531462346, kernel='rbf', gamma=0.00128)\n",
    "model.fit(X_train, y_train)\n",
    "# TODO: Calculate the score of your SVC against the testing data\n",
    "print \"Scoring SVC Classifier...\"\n",
    "#\n",
    "# .. your code here ..\n",
    "\n",
    "score = model.score(X_test, y_test)\n",
    "print \"Score:\\n\", score"
   ]
  },
  {
   "cell_type": "code",
   "execution_count": 48,
   "metadata": {
    "collapsed": false
   },
   "outputs": [
    {
     "name": "stdout",
     "output_type": "stream",
     "text": [
      "Scoring SVC Classifier...\n",
      "Score:\n",
      "0.101779173208\n"
     ]
    }
   ],
   "source": []
  },
  {
   "cell_type": "code",
   "execution_count": 27,
   "metadata": {
    "collapsed": false
   },
   "outputs": [
    {
     "name": "stderr",
     "output_type": "stream",
     "text": [
      "/anaconda/envs/python2/lib/python2.7/site-packages/ipykernel/__main__.py:22: FutureWarning: reshape is deprecated and will raise in a subsequent release. Please use .values.reshape(...) instead\n"
     ]
    },
    {
     "data": {
      "text/plain": [
       "<matplotlib.figure.Figure at 0x10bad9990>"
      ]
     },
     "metadata": {},
     "output_type": "display_data"
    },
    {
     "data": {
      "image/png": "[encoded data removed]",
      "text/plain": [
       "<matplotlib.figure.Figure at 0x11220bb10>"
      ]
     },
     "metadata": {},
     "output_type": "display_data"
    }
   ],
   "source": [
    "# Visual Confirmation of accuracy\n",
    "drawPredictions()"
   ]
  },
  {
   "cell_type": "code",
   "execution_count": 29,
   "metadata": {
    "collapsed": false
   },
   "outputs": [
    {
     "name": "stdout",
     "output_type": "stream",
     "text": [
      "('1000th test label: ', 2)\n"
     ]
    }
   ],
   "source": [
    "#\n",
    "# TODO: Print out the TRUE value of the 1000th digit in the test set\n",
    "#\n",
    "# .. your code here ..\n",
    "true_1000th_test_value = y_test[1000]\n",
    "print(\"1000th test label: \", true_1000th_test_value)"
   ]
  },
  {
   "cell_type": "code",
   "execution_count": 32,
   "metadata": {
    "collapsed": false
   },
   "outputs": [
    {
     "data": {
      "text/plain": [
       "pandas.core.frame.DataFrame"
      ]
     },
     "execution_count": 32,
     "metadata": {},
     "output_type": "execute_result"
    }
   ],
   "source": [
    "type(X_test)"
   ]
  },
  {
   "cell_type": "code",
   "execution_count": 33,
   "metadata": {
    "collapsed": false
   },
   "outputs": [
    {
     "name": "stdout",
     "output_type": "stream",
     "text": [
      "1000th test prediction:  [2]\n"
     ]
    }
   ],
   "source": [
    "#\n",
    "# TODO: Predict the value of the 1000th digit in the test set.\n",
    "# Was your model's prediction correct?\n",
    "# INFO: If you get a warning on your predict line, look at the\n",
    "# notes from the previous module's labs.\n",
    "#\n",
    "# .. your code here ..\n",
    "guess_1000th_test_value = model.predict(X_test.iloc[[1000]])\n",
    "print \"1000th test prediction: \", guess_1000th_test_value"
   ]
  },
  {
   "cell_type": "code",
   "execution_count": 40,
   "metadata": {
    "collapsed": false,
    "scrolled": true
   },
   "outputs": [
    {
     "name": "stderr",
     "output_type": "stream",
     "text": [
      "/anaconda/envs/python2/lib/python2.7/site-packages/ipykernel/__main__.py:8: FutureWarning: reshape is deprecated and will raise in a subsequent release. Please use .values.reshape(...) instead\n"
     ]
    },
    {
     "data": {
      "image/png": "[encoded data removed]",
      "text/plain": [
       "<matplotlib.figure.Figure at 0x116355590>"
      ]
     },
     "metadata": {},
     "output_type": "display_data"
    },
    {
     "data": {
      "image/png": "[encoded data removed]",
      "text/plain": [
       "<matplotlib.figure.Figure at 0x116123d10>"
      ]
     },
     "metadata": {},
     "output_type": "display_data"
    }
   ],
   "source": [
    "#\n",
    "# TODO: Use IMSHOW to display the 1000th test image, so you can\n",
    "# visually check if it was a hard image, or an easy image\n",
    "#\n",
    "# .. your code here ..\n",
    "# plt.subplot(5, 10, 1000 + 1)\n",
    "fig = plt.figure()\n",
    "plt.imshow(X_train.ix[1000,:].reshape(8,8), cmap=plt.cm.gray_r, interpolation='nearest')\n",
    "plt.axis('off')\n",
    "fig.set_tight_layout(True)\n",
    "plt.show()"
   ]
  },
  {
   "cell_type": "code",
   "execution_count": null,
   "metadata": {
    "collapsed": true
   },
   "outputs": [],
   "source": [
    "#\n",
    "# TODO: Were you able to beat the USPS advertised accuracy score\n",
    "# of 98%? If so, STOP and answer the lab questions. But if you\n",
    "# weren't able to get that high of an accuracy score, go back\n",
    "# and change your SVC's kernel to 'poly' and re-run your lab\n",
    "# again."
   ]
  },
  {
   "cell_type": "code",
   "execution_count": null,
   "metadata": {
    "collapsed": true
   },
   "outputs": [],
   "source": [
    "#\n",
    "# TODO: Were you able to beat the USPS advertised accuracy score\n",
    "# of 98%? If so, STOP and answer the lab questions. But if you\n",
    "# weren't able to get that high of an accuracy score, go back\n",
    "# and change your SVC's kernel to 'rbf' and re-run your lab\n",
    "# again."
   ]
  },
  {
   "cell_type": "code",
   "execution_count": null,
   "metadata": {
    "collapsed": true
   },
   "outputs": [],
   "source": [
    "#\n",
    "# TODO: Were you able to beat the USPS advertised accuracy score\n",
    "# of 98%? If so, STOP and answer the lab questions. But if you\n",
    "# weren't able to get that high of an accuracy score, go back\n",
    "# and tinker with your gamma value and C value until you're able\n",
    "# to beat the USPS. Don't stop tinkering until you do. =)."
   ]
  },
  {
   "cell_type": "code",
   "execution_count": null,
   "metadata": {
    "collapsed": true
   },
   "outputs": [],
   "source": [
    "#################################################\n",
    "\n",
    "#\n",
    "# TODO: Once you're able to beat the +98% accuracy score of the\n",
    "# USPS, go back into the load() method. Look for the line that\n",
    "# reads \"# Special:\"\n",
    "#\n",
    "# Immediately under that line, alter X_train and y_train ONLY.\n",
    "# Keep just the ___FIRST___ 4% of the samples. In other words,\n",
    "# for every 100 samples found, throw away 96 of them. Make sure\n",
    "# all the samples (and labels) you keep come from the start of\n",
    "# X_train and y_train.\n",
    "\n",
    "# If the first 4% is a decimal number, then use int + ceil to\n",
    "# round up to the nearest whole integer.\n",
    "\n",
    "# That operation might require some Pandas indexing skills, or\n",
    "# perhaps some numpy indexing skills if you'd like to go that\n",
    "# route. Feel free to ask on the class forum if you want; but\n",
    "# try to exercise your own muscles first, for at least 30\n",
    "# minutes, by reviewing the Pandas documentation and stack\n",
    "# overflow. Through that, in the process, you'll pick up a lot.\n",
    "# Part of being a machine learning practitioner is know what\n",
    "# questions to ask and where to ask them, so this is a great\n",
    "# time to start!\n",
    "\n",
    "# Re-Run your application after throwing away 96% your training\n",
    "# data. What accuracy score do you get now?"
   ]
  },
  {
   "cell_type": "code",
   "execution_count": null,
   "metadata": {
    "collapsed": true
   },
   "outputs": [],
   "source": [
    "#\n",
    "# TODO: Lastly, change your kernel back to linear and run your\n",
    "# assignment one last time. What's the accuracy score this time?\n",
    "# Surprised?"
   ]
  },
  {
   "cell_type": "code",
   "execution_count": null,
   "metadata": {
    "collapsed": true
   },
   "outputs": [],
   "source": []
  }
 ],
 "metadata": {
  "kernelspec": {
   "display_name": "Python 2",
   "language": "python",
   "name": "python2"
  },
  "language_info": {
   "codemirror_mode": {
    "name": "ipython",
    "version": 2
   },
   "file_extension": ".py",
   "mimetype": "text/x-python",
   "name": "python",
   "nbconvert_exporter": "python",
   "pygments_lexer": "ipython2",
   "version": "2.7.12"
  }
 },
 "nbformat": 4,
 "nbformat_minor": 0
}
