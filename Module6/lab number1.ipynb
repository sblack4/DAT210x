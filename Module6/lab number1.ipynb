{
 "cells": [
  {
   "cell_type": "code",
   "execution_count": 1,
   "metadata": {
    "collapsed": false
   },
   "outputs": [
    {
     "name": "stderr",
     "output_type": "stream",
     "text": [
      "//anaconda/envs/python2/lib/python2.7/site-packages/matplotlib/font_manager.py:273: UserWarning: Matplotlib is building the font cache using fc-list. This may take a moment.\n",
      "  warnings.warn('Matplotlib is building the font cache using fc-list. This may take a moment.')\n"
     ]
    }
   ],
   "source": [
    "import matplotlib as mpl\n",
    "import matplotlib.pyplot as plt\n",
    "\n",
    "import pandas as pd\n",
    "import numpy as np \n",
    "import time"
   ]
  },
  {
   "cell_type": "code",
   "execution_count": 2,
   "metadata": {
    "collapsed": true
   },
   "outputs": [],
   "source": [
    "# \n",
    "# INFO: Your Parameters.\n",
    "# You can adjust them after completing the lab\n",
    "C = 1\n",
    "kernel = 'linear'\n",
    "iterations = 5000   # TODO: Change to 200000 once you get to Question#2\n",
    "\n",
    "#\n",
    "# INFO: You can set this to false if you want to\n",
    "# draw the full square matrix\n",
    "FAST_DRAW = True"
   ]
  },
  {
   "cell_type": "code",
   "execution_count": 3,
   "metadata": {
    "collapsed": true
   },
   "outputs": [],
   "source": [
    "def drawPlots(model, wintitle='Figure 1'):\n",
    "  # INFO: A convenience function for you\n",
    "  # You can use this to break any higher-dimensional space down\n",
    "  # And view cross sections of it.\n",
    "\n",
    "  # If this line throws an error, use plt.style.use('ggplot') instead\n",
    "  mpl.style.use('ggplot') # Look Pretty\n",
    "\n",
    "  padding = 3\n",
    "  resolution = 0.5\n",
    "  max_2d_score = 0\n",
    "\n",
    "  y_colors = ['#ff0000', '#00ff00', '#0000ff']\n",
    "  my_cmap = mpl.colors.ListedColormap(['#ffaaaa', '#aaffaa', '#aaaaff'])\n",
    "  colors = [y_colors[i] for i in y_train]\n",
    "  num_columns = len(X_train.columns)\n",
    "\n",
    "  fig = plt.figure()\n",
    "  fig.canvas.set_window_title(wintitle)\n",
    "  \n",
    "  cnt = 0\n",
    "  for col in range(num_columns):\n",
    "    for row in range(num_columns):\n",
    "      # Easy out\n",
    "      if FAST_DRAW and col > row:\n",
    "        cnt += 1\n",
    "        continue\n",
    "\n",
    "      ax = plt.subplot(num_columns, num_columns, cnt + 1)\n",
    "      plt.xticks(())\n",
    "      plt.yticks(())\n",
    "\n",
    "      # Intersection:\n",
    "      if col == row:\n",
    "        plt.text(0.5, 0.5, X_train.columns[row], verticalalignment='center', horizontalalignment='center', fontsize=12)\n",
    "        cnt += 1\n",
    "        continue\n",
    "\n",
    "\n",
    "      # Only select two features to display, then train the model\n",
    "      X_train_bag = X_train.ix[:, [row,col]]\n",
    "      X_test_bag = X_test.ix[:, [row,col]]\n",
    "      model.fit(X_train_bag, y_train)\n",
    "\n",
    "      # Create a mesh to plot in\n",
    "      x_min, x_max = X_train_bag.ix[:, 0].min() - padding, X_train_bag.ix[:, 0].max() + padding\n",
    "      y_min, y_max = X_train_bag.ix[:, 1].min() - padding, X_train_bag.ix[:, 1].max() + padding\n",
    "      xx, yy = np.meshgrid(np.arange(x_min, x_max, resolution),\n",
    "                           np.arange(y_min, y_max, resolution))\n",
    "\n",
    "      # Plot Boundaries\n",
    "      plt.xlim(xx.min(), xx.max())\n",
    "      plt.ylim(yy.min(), yy.max())\n",
    "\n",
    "      # Prepare the contour\n",
    "      Z = model.predict(np.c_[xx.ravel(), yy.ravel()])\n",
    "      Z = Z.reshape(xx.shape)\n",
    "      plt.contourf(xx, yy, Z, cmap=my_cmap, alpha=0.8)\n",
    "      plt.scatter(X_train_bag.ix[:, 0], X_train_bag.ix[:, 1], c=colors, alpha=0.5)\n",
    "\n",
    "\n",
    "      score = round(model.score(X_test_bag, y_test) * 100, 3)\n",
    "      plt.text(0.5, 0, \"Score: {0}\".format(score), transform = ax.transAxes, horizontalalignment='center', fontsize=8)\n",
    "      max_2d_score = score if score > max_2d_score else max_2d_score\n",
    "\n",
    "      cnt += 1\n",
    "\n",
    "  print \"Max 2D Score: \", max_2d_score\n",
    "  fig.set_tight_layout(True)"
   ]
  },
  {
   "cell_type": "code",
   "execution_count": 37,
   "metadata": {
    "collapsed": false
   },
   "outputs": [],
   "source": [
    "def benchmark(model, wintitle='Figure 1'):\n",
    "  print '\\n\\n' + wintitle + ' Results'\n",
    "  s = time.time()\n",
    "  for i in range(iterations):\n",
    "    #\n",
    "    # TODO: train the classifier on the training data / labels:\n",
    "    #\n",
    "    # .. your code here ..\n",
    "    model.fit(X_train, y_train)\n",
    "  print \"{0} Iterations Training Time: \".format(iterations), time.time() - s\n",
    "\n",
    "\n",
    "  s = time.time()\n",
    "  for i in range(iterations):\n",
    "    #\n",
    "    # TODO: score the classifier on the testing data / labels:\n",
    "    #\n",
    "    # .. your code here ..\n",
    "    score = model.score(X_test, y_test)\n",
    "  print \"{0} Iterations Scoring Time: \".format(iterations), time.time() - s\n",
    "  print \"High-Dimensionality Score: \", round((score*100), 30)"
   ]
  },
  {
   "cell_type": "code",
   "execution_count": 6,
   "metadata": {
    "collapsed": false
   },
   "outputs": [
    {
     "data": {
      "text/html": [
       "<div>\n",
       "<table border=\"1\" class=\"dataframe\">\n",
       "  <thead>\n",
       "    <tr style=\"text-align: right;\">\n",
       "      <th></th>\n",
       "      <th>id</th>\n",
       "      <th>area</th>\n",
       "      <th>perimeter</th>\n",
       "      <th>compactness</th>\n",
       "      <th>length</th>\n",
       "      <th>width</th>\n",
       "      <th>asymmetry</th>\n",
       "      <th>groove</th>\n",
       "    </tr>\n",
       "  </thead>\n",
       "  <tbody>\n",
       "    <tr>\n",
       "      <th>count</th>\n",
       "      <td>210.000000</td>\n",
       "      <td>210.000000</td>\n",
       "      <td>210.000000</td>\n",
       "      <td>207.000000</td>\n",
       "      <td>210.000000</td>\n",
       "      <td>209.000000</td>\n",
       "      <td>210.000000</td>\n",
       "      <td>206.000000</td>\n",
       "    </tr>\n",
       "    <tr>\n",
       "      <th>mean</th>\n",
       "      <td>104.500000</td>\n",
       "      <td>14.847524</td>\n",
       "      <td>14.559286</td>\n",
       "      <td>0.871280</td>\n",
       "      <td>5.563918</td>\n",
       "      <td>3.281440</td>\n",
       "      <td>3.693530</td>\n",
       "      <td>5.407529</td>\n",
       "    </tr>\n",
       "    <tr>\n",
       "      <th>std</th>\n",
       "      <td>60.765944</td>\n",
       "      <td>2.909699</td>\n",
       "      <td>1.305959</td>\n",
       "      <td>0.023306</td>\n",
       "      <td>0.719594</td>\n",
       "      <td>0.419907</td>\n",
       "      <td>1.495112</td>\n",
       "      <td>0.532330</td>\n",
       "    </tr>\n",
       "    <tr>\n",
       "      <th>min</th>\n",
       "      <td>0.000000</td>\n",
       "      <td>10.590000</td>\n",
       "      <td>12.410000</td>\n",
       "      <td>0.808100</td>\n",
       "      <td>0.818900</td>\n",
       "      <td>2.630000</td>\n",
       "      <td>0.765100</td>\n",
       "      <td>3.485000</td>\n",
       "    </tr>\n",
       "    <tr>\n",
       "      <th>25%</th>\n",
       "      <td>52.250000</td>\n",
       "      <td>12.270000</td>\n",
       "      <td>13.450000</td>\n",
       "      <td>0.857700</td>\n",
       "      <td>5.244750</td>\n",
       "      <td>2.956000</td>\n",
       "      <td>2.600250</td>\n",
       "      <td>5.045000</td>\n",
       "    </tr>\n",
       "    <tr>\n",
       "      <th>50%</th>\n",
       "      <td>104.500000</td>\n",
       "      <td>14.355000</td>\n",
       "      <td>14.320000</td>\n",
       "      <td>0.873500</td>\n",
       "      <td>5.518000</td>\n",
       "      <td>3.245000</td>\n",
       "      <td>3.599000</td>\n",
       "      <td>5.226000</td>\n",
       "    </tr>\n",
       "    <tr>\n",
       "      <th>75%</th>\n",
       "      <td>156.750000</td>\n",
       "      <td>17.305000</td>\n",
       "      <td>15.715000</td>\n",
       "      <td>0.887650</td>\n",
       "      <td>5.979750</td>\n",
       "      <td>3.566000</td>\n",
       "      <td>4.768750</td>\n",
       "      <td>5.879000</td>\n",
       "    </tr>\n",
       "    <tr>\n",
       "      <th>max</th>\n",
       "      <td>209.000000</td>\n",
       "      <td>21.180000</td>\n",
       "      <td>17.250000</td>\n",
       "      <td>0.918300</td>\n",
       "      <td>6.675000</td>\n",
       "      <td>5.325000</td>\n",
       "      <td>8.456000</td>\n",
       "      <td>6.735000</td>\n",
       "    </tr>\n",
       "  </tbody>\n",
       "</table>\n",
       "</div>"
      ],
      "text/plain": [
       "               id        area   perimeter  compactness      length  \\\n",
       "count  210.000000  210.000000  210.000000   207.000000  210.000000   \n",
       "mean   104.500000   14.847524   14.559286     0.871280    5.563918   \n",
       "std     60.765944    2.909699    1.305959     0.023306    0.719594   \n",
       "min      0.000000   10.590000   12.410000     0.808100    0.818900   \n",
       "25%     52.250000   12.270000   13.450000     0.857700    5.244750   \n",
       "50%    104.500000   14.355000   14.320000     0.873500    5.518000   \n",
       "75%    156.750000   17.305000   15.715000     0.887650    5.979750   \n",
       "max    209.000000   21.180000   17.250000     0.918300    6.675000   \n",
       "\n",
       "            width   asymmetry      groove  \n",
       "count  209.000000  210.000000  206.000000  \n",
       "mean     3.281440    3.693530    5.407529  \n",
       "std      0.419907    1.495112    0.532330  \n",
       "min      2.630000    0.765100    3.485000  \n",
       "25%      2.956000    2.600250    5.045000  \n",
       "50%      3.245000    3.599000    5.226000  \n",
       "75%      3.566000    4.768750    5.879000  \n",
       "max      5.325000    8.456000    6.735000  "
      ]
     },
     "execution_count": 6,
     "metadata": {},
     "output_type": "execute_result"
    }
   ],
   "source": [
    "# \n",
    "# TODO: Load up the wheat dataset into dataframe 'X'\n",
    "# Verify you did it properly.\n",
    "# Indices shouldn't be doubled, nor weird headers...\n",
    "#\n",
    "# .. your code here ..\n",
    "X = pd.read_csv('Datasets/Wheat.data')\n",
    "X.describe()"
   ]
  },
  {
   "cell_type": "code",
   "execution_count": 9,
   "metadata": {
    "collapsed": false
   },
   "outputs": [
    {
     "data": {
      "text/html": [
       "<div>\n",
       "<table border=\"1\" class=\"dataframe\">\n",
       "  <thead>\n",
       "    <tr style=\"text-align: right;\">\n",
       "      <th></th>\n",
       "      <th>id</th>\n",
       "      <th>area</th>\n",
       "      <th>perimeter</th>\n",
       "      <th>compactness</th>\n",
       "      <th>length</th>\n",
       "      <th>width</th>\n",
       "      <th>asymmetry</th>\n",
       "      <th>groove</th>\n",
       "    </tr>\n",
       "  </thead>\n",
       "  <tbody>\n",
       "    <tr>\n",
       "      <th>count</th>\n",
       "      <td>203.000000</td>\n",
       "      <td>203.000000</td>\n",
       "      <td>203.000000</td>\n",
       "      <td>203.000000</td>\n",
       "      <td>203.000000</td>\n",
       "      <td>203.000000</td>\n",
       "      <td>203.000000</td>\n",
       "      <td>203.000000</td>\n",
       "    </tr>\n",
       "    <tr>\n",
       "      <th>mean</th>\n",
       "      <td>104.275862</td>\n",
       "      <td>14.906502</td>\n",
       "      <td>14.588719</td>\n",
       "      <td>0.870930</td>\n",
       "      <td>5.640291</td>\n",
       "      <td>3.264305</td>\n",
       "      <td>3.710425</td>\n",
       "      <td>5.419754</td>\n",
       "    </tr>\n",
       "    <tr>\n",
       "      <th>std</th>\n",
       "      <td>60.391157</td>\n",
       "      <td>2.919854</td>\n",
       "      <td>1.309860</td>\n",
       "      <td>0.023336</td>\n",
       "      <td>0.443569</td>\n",
       "      <td>0.378419</td>\n",
       "      <td>1.504453</td>\n",
       "      <td>0.492741</td>\n",
       "    </tr>\n",
       "    <tr>\n",
       "      <th>min</th>\n",
       "      <td>0.000000</td>\n",
       "      <td>10.590000</td>\n",
       "      <td>12.410000</td>\n",
       "      <td>0.808100</td>\n",
       "      <td>4.899000</td>\n",
       "      <td>2.630000</td>\n",
       "      <td>0.765100</td>\n",
       "      <td>4.519000</td>\n",
       "    </tr>\n",
       "    <tr>\n",
       "      <th>25%</th>\n",
       "      <td>52.500000</td>\n",
       "      <td>12.330000</td>\n",
       "      <td>13.465000</td>\n",
       "      <td>0.857100</td>\n",
       "      <td>5.265000</td>\n",
       "      <td>2.954500</td>\n",
       "      <td>2.570000</td>\n",
       "      <td>5.045500</td>\n",
       "    </tr>\n",
       "    <tr>\n",
       "      <th>50%</th>\n",
       "      <td>104.000000</td>\n",
       "      <td>14.380000</td>\n",
       "      <td>14.370000</td>\n",
       "      <td>0.873400</td>\n",
       "      <td>5.541000</td>\n",
       "      <td>3.242000</td>\n",
       "      <td>3.631000</td>\n",
       "      <td>5.228000</td>\n",
       "    </tr>\n",
       "    <tr>\n",
       "      <th>75%</th>\n",
       "      <td>155.500000</td>\n",
       "      <td>17.455000</td>\n",
       "      <td>15.805000</td>\n",
       "      <td>0.887050</td>\n",
       "      <td>6.002000</td>\n",
       "      <td>3.564500</td>\n",
       "      <td>4.799000</td>\n",
       "      <td>5.879000</td>\n",
       "    </tr>\n",
       "    <tr>\n",
       "      <th>max</th>\n",
       "      <td>209.000000</td>\n",
       "      <td>21.180000</td>\n",
       "      <td>17.250000</td>\n",
       "      <td>0.918300</td>\n",
       "      <td>6.675000</td>\n",
       "      <td>4.033000</td>\n",
       "      <td>8.456000</td>\n",
       "      <td>6.550000</td>\n",
       "    </tr>\n",
       "  </tbody>\n",
       "</table>\n",
       "</div>"
      ],
      "text/plain": [
       "               id        area   perimeter  compactness      length  \\\n",
       "count  203.000000  203.000000  203.000000   203.000000  203.000000   \n",
       "mean   104.275862   14.906502   14.588719     0.870930    5.640291   \n",
       "std     60.391157    2.919854    1.309860     0.023336    0.443569   \n",
       "min      0.000000   10.590000   12.410000     0.808100    4.899000   \n",
       "25%     52.500000   12.330000   13.465000     0.857100    5.265000   \n",
       "50%    104.000000   14.380000   14.370000     0.873400    5.541000   \n",
       "75%    155.500000   17.455000   15.805000     0.887050    6.002000   \n",
       "max    209.000000   21.180000   17.250000     0.918300    6.675000   \n",
       "\n",
       "            width   asymmetry      groove  \n",
       "count  203.000000  203.000000  203.000000  \n",
       "mean     3.264305    3.710425    5.419754  \n",
       "std      0.378419    1.504453    0.492741  \n",
       "min      2.630000    0.765100    4.519000  \n",
       "25%      2.954500    2.570000    5.045500  \n",
       "50%      3.242000    3.631000    5.228000  \n",
       "75%      3.564500    4.799000    5.879000  \n",
       "max      4.033000    8.456000    6.550000  "
      ]
     },
     "execution_count": 9,
     "metadata": {},
     "output_type": "execute_result"
    }
   ],
   "source": [
    "# # INFO: An easy way to show which rows have nans in them\n",
    "#print X[pd.isnull(X).any(axis=1)]\n",
    "# TODO: Go ahead and drop any row with a nan\n",
    "#\n",
    "# .. your code here ..\n",
    "X = X.dropna()\n",
    "X.describe()"
   ]
  },
  {
   "cell_type": "code",
   "execution_count": 14,
   "metadata": {
    "collapsed": false
   },
   "outputs": [
    {
     "data": {
      "text/plain": [
       "count          203\n",
       "unique           3\n",
       "top       canadian\n",
       "freq            69\n",
       "Name: wheat_type, dtype: object"
      ]
     },
     "execution_count": 14,
     "metadata": {},
     "output_type": "execute_result"
    }
   ],
   "source": [
    "# \n",
    "# INFO: # In the future, you might try setting the nan values to the\n",
    "# mean value of that column, the mean should only be calculated for\n",
    "# the specific class rather than across all classes, now that you\n",
    "# have the labels\n",
    "\n",
    "#\n",
    "# TODO: Copy the labels out of the dset into variable 'y' then Remove\n",
    "# them from X. Encode the labels, using the .map() trick we showed\n",
    "# you in Module 5 -- canadian:0, kama:1, and rosa:2\n",
    "#\n",
    "# .. your code here ..\n",
    "#y = X['wheat_type']\n",
    "#X = X.drop('wheat_type', 1)\n",
    "\n",
    "X.describe()\n",
    "y.describe()"
   ]
  },
  {
   "cell_type": "code",
   "execution_count": 15,
   "metadata": {
    "collapsed": false
   },
   "outputs": [
    {
     "data": {
      "text/html": [
       "<div>\n",
       "<table border=\"1\" class=\"dataframe\">\n",
       "  <thead>\n",
       "    <tr style=\"text-align: right;\">\n",
       "      <th></th>\n",
       "      <th>id</th>\n",
       "      <th>area</th>\n",
       "      <th>perimeter</th>\n",
       "      <th>compactness</th>\n",
       "      <th>length</th>\n",
       "      <th>width</th>\n",
       "      <th>asymmetry</th>\n",
       "      <th>groove</th>\n",
       "    </tr>\n",
       "  </thead>\n",
       "  <tbody>\n",
       "    <tr>\n",
       "      <th>count</th>\n",
       "      <td>203.000000</td>\n",
       "      <td>203.000000</td>\n",
       "      <td>203.000000</td>\n",
       "      <td>203.000000</td>\n",
       "      <td>203.000000</td>\n",
       "      <td>203.000000</td>\n",
       "      <td>203.000000</td>\n",
       "      <td>203.000000</td>\n",
       "    </tr>\n",
       "    <tr>\n",
       "      <th>mean</th>\n",
       "      <td>104.275862</td>\n",
       "      <td>14.906502</td>\n",
       "      <td>14.588719</td>\n",
       "      <td>0.870930</td>\n",
       "      <td>5.640291</td>\n",
       "      <td>3.264305</td>\n",
       "      <td>3.710425</td>\n",
       "      <td>5.419754</td>\n",
       "    </tr>\n",
       "    <tr>\n",
       "      <th>std</th>\n",
       "      <td>60.391157</td>\n",
       "      <td>2.919854</td>\n",
       "      <td>1.309860</td>\n",
       "      <td>0.023336</td>\n",
       "      <td>0.443569</td>\n",
       "      <td>0.378419</td>\n",
       "      <td>1.504453</td>\n",
       "      <td>0.492741</td>\n",
       "    </tr>\n",
       "    <tr>\n",
       "      <th>min</th>\n",
       "      <td>0.000000</td>\n",
       "      <td>10.590000</td>\n",
       "      <td>12.410000</td>\n",
       "      <td>0.808100</td>\n",
       "      <td>4.899000</td>\n",
       "      <td>2.630000</td>\n",
       "      <td>0.765100</td>\n",
       "      <td>4.519000</td>\n",
       "    </tr>\n",
       "    <tr>\n",
       "      <th>25%</th>\n",
       "      <td>52.500000</td>\n",
       "      <td>12.330000</td>\n",
       "      <td>13.465000</td>\n",
       "      <td>0.857100</td>\n",
       "      <td>5.265000</td>\n",
       "      <td>2.954500</td>\n",
       "      <td>2.570000</td>\n",
       "      <td>5.045500</td>\n",
       "    </tr>\n",
       "    <tr>\n",
       "      <th>50%</th>\n",
       "      <td>104.000000</td>\n",
       "      <td>14.380000</td>\n",
       "      <td>14.370000</td>\n",
       "      <td>0.873400</td>\n",
       "      <td>5.541000</td>\n",
       "      <td>3.242000</td>\n",
       "      <td>3.631000</td>\n",
       "      <td>5.228000</td>\n",
       "    </tr>\n",
       "    <tr>\n",
       "      <th>75%</th>\n",
       "      <td>155.500000</td>\n",
       "      <td>17.455000</td>\n",
       "      <td>15.805000</td>\n",
       "      <td>0.887050</td>\n",
       "      <td>6.002000</td>\n",
       "      <td>3.564500</td>\n",
       "      <td>4.799000</td>\n",
       "      <td>5.879000</td>\n",
       "    </tr>\n",
       "    <tr>\n",
       "      <th>max</th>\n",
       "      <td>209.000000</td>\n",
       "      <td>21.180000</td>\n",
       "      <td>17.250000</td>\n",
       "      <td>0.918300</td>\n",
       "      <td>6.675000</td>\n",
       "      <td>4.033000</td>\n",
       "      <td>8.456000</td>\n",
       "      <td>6.550000</td>\n",
       "    </tr>\n",
       "  </tbody>\n",
       "</table>\n",
       "</div>"
      ],
      "text/plain": [
       "               id        area   perimeter  compactness      length  \\\n",
       "count  203.000000  203.000000  203.000000   203.000000  203.000000   \n",
       "mean   104.275862   14.906502   14.588719     0.870930    5.640291   \n",
       "std     60.391157    2.919854    1.309860     0.023336    0.443569   \n",
       "min      0.000000   10.590000   12.410000     0.808100    4.899000   \n",
       "25%     52.500000   12.330000   13.465000     0.857100    5.265000   \n",
       "50%    104.000000   14.380000   14.370000     0.873400    5.541000   \n",
       "75%    155.500000   17.455000   15.805000     0.887050    6.002000   \n",
       "max    209.000000   21.180000   17.250000     0.918300    6.675000   \n",
       "\n",
       "            width   asymmetry      groove  \n",
       "count  203.000000  203.000000  203.000000  \n",
       "mean     3.264305    3.710425    5.419754  \n",
       "std      0.378419    1.504453    0.492741  \n",
       "min      2.630000    0.765100    4.519000  \n",
       "25%      2.954500    2.570000    5.045500  \n",
       "50%      3.242000    3.631000    5.228000  \n",
       "75%      3.564500    4.799000    5.879000  \n",
       "max      4.033000    8.456000    6.550000  "
      ]
     },
     "execution_count": 15,
     "metadata": {},
     "output_type": "execute_result"
    }
   ],
   "source": [
    "X.describe()"
   ]
  },
  {
   "cell_type": "code",
   "execution_count": 16,
   "metadata": {
    "collapsed": true
   },
   "outputs": [],
   "source": [
    "y = y.map({'canadian':0, 'kama':1, 'rosa':2})"
   ]
  },
  {
   "cell_type": "code",
   "execution_count": 17,
   "metadata": {
    "collapsed": false
   },
   "outputs": [
    {
     "data": {
      "text/plain": [
       "count    203.000000\n",
       "mean       0.995074\n",
       "std        0.823525\n",
       "min        0.000000\n",
       "25%        0.000000\n",
       "50%        1.000000\n",
       "75%        2.000000\n",
       "max        2.000000\n",
       "Name: wheat_type, dtype: float64"
      ]
     },
     "execution_count": 17,
     "metadata": {},
     "output_type": "execute_result"
    }
   ],
   "source": [
    "y.describe()"
   ]
  },
  {
   "cell_type": "code",
   "execution_count": 33,
   "metadata": {
    "collapsed": false
   },
   "outputs": [],
   "source": [
    "# \n",
    "# TODO: Split your data into test / train sets\n",
    "# Your test size can be 30% with random_state 7.\n",
    "# Use variable names: X_train, X_test, y_train, y_test\n",
    "#\n",
    "# .. your code here ..\n",
    "from sklearn.model_selection import train_test_split\n",
    "X_train, X_test, y_train, y_test = train_test_split(X, y, test_size=0.3, random_state=7)"
   ]
  },
  {
   "cell_type": "code",
   "execution_count": 34,
   "metadata": {
    "collapsed": false
   },
   "outputs": [],
   "source": [
    "#\n",
    "# TODO: Create an SVC classifier named svc\n",
    "# Use a linear kernel, and set the C value to C\n",
    "#\n",
    "# .. your code here ..\n",
    "from sklearn.svm import SVC\n",
    "svc = SVC(kernel='linear', C=C)\n",
    "#model.fit(X_train, y_train)"
   ]
  },
  {
   "cell_type": "code",
   "execution_count": 35,
   "metadata": {
    "collapsed": false
   },
   "outputs": [],
   "source": [
    "#\n",
    "# TODO: Create an KNeighbors classifier named knn\n",
    "# Set the neighbor count to 5\n",
    "#\n",
    "# .. your code here ..\n",
    "from sklearn.neighbors import KNeighborsClassifier\n",
    "knn = KNeighborsClassifier(n_neighbors=5)\n",
    "#knn.fit(X_train, y_train) "
   ]
  },
  {
   "cell_type": "code",
   "execution_count": 38,
   "metadata": {
    "collapsed": false
   },
   "outputs": [
    {
     "name": "stdout",
     "output_type": "stream",
     "text": [
      "\n",
      "\n",
      "KNeighbors Results\n",
      "5000 Iterations Training Time:  2.50145101547\n",
      "5000 Iterations Scoring Time:  8.0854818821\n",
      "High-Dimensionality Score:  98.3606557377\n",
      "Max 2D Score:  98.361\n",
      "\n",
      "\n",
      "SVC Results\n",
      "5000 Iterations Training Time:  34.0258989334\n",
      "5000 Iterations Scoring Time:  2.0247759819\n",
      "High-Dimensionality Score:  98.3606557377\n",
      "Max 2D Score:  98.361\n"
     ]
    },
    {
     "data": {
      "image/png": "[encoded data removed]",
      "text/plain": [
       "<matplotlib.figure.Figure at 0x111c33e50>"
      ]
     },
     "metadata": {},
     "output_type": "display_data"
    },
    {
     "data": {
      "image/png": "[encoded data removed]",
      "text/plain": [
       "<matplotlib.figure.Figure at 0x111e107d0>"
      ]
     },
     "metadata": {},
     "output_type": "display_data"
    }
   ],
   "source": [
    "benchmark(knn, 'KNeighbors')\n",
    "drawPlots(knn, 'KNeighbors')\n",
    "\n",
    "benchmark(svc, 'SVC')\n",
    "drawPlots(svc, 'SVC')\n",
    "\n",
    "plt.show()\n",
    "\n",
    "\n",
    "\n",
    "#\n",
    "# BONUS: After submitting your answers, toy around with\n",
    "# gamma, kernel, and C."
   ]
  },
  {
   "cell_type": "code",
   "execution_count": null,
   "metadata": {
    "collapsed": true
   },
   "outputs": [],
   "source": []
  },
  {
   "cell_type": "code",
   "execution_count": null,
   "metadata": {
    "collapsed": true
   },
   "outputs": [],
   "source": []
  },
  {
   "cell_type": "code",
   "execution_count": null,
   "metadata": {
    "collapsed": true
   },
   "outputs": [],
   "source": []
  },
  {
   "cell_type": "code",
   "execution_count": null,
   "metadata": {
    "collapsed": true
   },
   "outputs": [],
   "source": []
  },
  {
   "cell_type": "code",
   "execution_count": null,
   "metadata": {
    "collapsed": true
   },
   "outputs": [],
   "source": []
  },
  {
   "cell_type": "code",
   "execution_count": null,
   "metadata": {
    "collapsed": true
   },
   "outputs": [],
   "source": []
  },
  {
   "cell_type": "code",
   "execution_count": null,
   "metadata": {
    "collapsed": true
   },
   "outputs": [],
   "source": []
  },
  {
   "cell_type": "code",
   "execution_count": null,
   "metadata": {
    "collapsed": true
   },
   "outputs": [],
   "source": []
  },
  {
   "cell_type": "code",
   "execution_count": null,
   "metadata": {
    "collapsed": true
   },
   "outputs": [],
   "source": []
  },
  {
   "cell_type": "code",
   "execution_count": null,
   "metadata": {
    "collapsed": true
   },
   "outputs": [],
   "source": []
  },
  {
   "cell_type": "code",
   "execution_count": null,
   "metadata": {
    "collapsed": true
   },
   "outputs": [],
   "source": []
  },
  {
   "cell_type": "code",
   "execution_count": null,
   "metadata": {
    "collapsed": true
   },
   "outputs": [],
   "source": []
  },
  {
   "cell_type": "code",
   "execution_count": null,
   "metadata": {
    "collapsed": true
   },
   "outputs": [],
   "source": []
  },
  {
   "cell_type": "code",
   "execution_count": null,
   "metadata": {
    "collapsed": true
   },
   "outputs": [],
   "source": []
  },
  {
   "cell_type": "code",
   "execution_count": null,
   "metadata": {
    "collapsed": true
   },
   "outputs": [],
   "source": []
  },
  {
   "cell_type": "code",
   "execution_count": null,
   "metadata": {
    "collapsed": true
   },
   "outputs": [],
   "source": []
  },
  {
   "cell_type": "code",
   "execution_count": null,
   "metadata": {
    "collapsed": true
   },
   "outputs": [],
   "source": []
  },
  {
   "cell_type": "code",
   "execution_count": null,
   "metadata": {
    "collapsed": true
   },
   "outputs": [],
   "source": []
  },
  {
   "cell_type": "code",
   "execution_count": null,
   "metadata": {
    "collapsed": true
   },
   "outputs": [],
   "source": []
  },
  {
   "cell_type": "code",
   "execution_count": null,
   "metadata": {
    "collapsed": true
   },
   "outputs": [],
   "source": []
  }
 ],
 "metadata": {
  "kernelspec": {
   "display_name": "Python 2",
   "language": "python",
   "name": "python2"
  },
  "language_info": {
   "codemirror_mode": {
    "name": "ipython",
    "version": 2
   },
   "file_extension": ".py",
   "mimetype": "text/x-python",
   "name": "python",
   "nbconvert_exporter": "python",
   "pygments_lexer": "ipython2",
   "version": "2.7.12"
  }
 },
 "nbformat": 4,
 "nbformat_minor": 0
}
