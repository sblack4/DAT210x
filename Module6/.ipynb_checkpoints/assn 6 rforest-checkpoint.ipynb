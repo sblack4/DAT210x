{
 "cells": [
  {
   "cell_type": "code",
   "execution_count": null,
   "metadata": {
    "collapsed": true
   },
   "outputs": [],
   "source": [
    "import pandas as pd\n",
    "import time\n",
    "\n",
    "# Grab the DLA HAR dataset from:\n",
    "# http://groupware.les.inf.puc-rio.br/har\n",
    "# http://groupware.les.inf.puc-rio.br/static/har/dataset-har-PUC-Rio-ugulino.zip"
   ]
  },
  {
   "cell_type": "code",
   "execution_count": null,
   "metadata": {
    "collapsed": true
   },
   "outputs": [],
   "source": [
    "#\n",
    "# TODO: Load up the dataset into dataframe 'X'\n",
    "#\n",
    "# .. your code here .."
   ]
  },
  {
   "cell_type": "code",
   "execution_count": null,
   "metadata": {
    "collapsed": true
   },
   "outputs": [],
   "source": [
    "#\n",
    "# TODO: Encode the gender column, 0 as male, 1 as female\n",
    "#\n",
    "# .. your code here .."
   ]
  },
  {
   "cell_type": "code",
   "execution_count": null,
   "metadata": {
    "collapsed": true
   },
   "outputs": [],
   "source": [
    "#\n",
    "# TODO: Clean up any column with commas in it\n",
    "# so that they're properly represented as decimals instead\n",
    "#\n",
    "# .. your code here .."
   ]
  },
  {
   "cell_type": "code",
   "execution_count": null,
   "metadata": {
    "collapsed": true
   },
   "outputs": [],
   "source": [
    "#\n",
    "# INFO: Check data types\n",
    "print X.dtypes"
   ]
  },
  {
   "cell_type": "code",
   "execution_count": null,
   "metadata": {
    "collapsed": true
   },
   "outputs": [],
   "source": [
    "#\n",
    "# TODO: Convert any column that needs to be converted into numeric\n",
    "# use errors='raise'. This will alert you if something ends up being\n",
    "# problematic\n",
    "#\n",
    "# .. your code here .."
   ]
  },
  {
   "cell_type": "code",
   "execution_count": null,
   "metadata": {
    "collapsed": true
   },
   "outputs": [],
   "source": [
    "#\n",
    "# INFO: If you find any problematic records, drop them before calling the\n",
    "# to_numeric methods above..."
   ]
  },
  {
   "cell_type": "code",
   "execution_count": null,
   "metadata": {
    "collapsed": true
   },
   "outputs": [],
   "source": [
    "#\n",
    "# TODO: Encode your 'y' value as a dummies version of your dataset's \"class\" column\n",
    "#\n",
    "# .. your code here .."
   ]
  },
  {
   "cell_type": "code",
   "execution_count": null,
   "metadata": {
    "collapsed": true
   },
   "outputs": [],
   "source": [
    "#\n",
    "# TODO: Get rid of the user and class columns\n",
    "#\n",
    "# .. your code here ..\n",
    "print X.describe()"
   ]
  },
  {
   "cell_type": "code",
   "execution_count": null,
   "metadata": {
    "collapsed": true
   },
   "outputs": [],
   "source": [
    "#\n",
    "# INFO: An easy way to show which rows have nans in them\n",
    "print X[pd.isnull(X).any(axis=1)]"
   ]
  },
  {
   "cell_type": "code",
   "execution_count": null,
   "metadata": {
    "collapsed": true
   },
   "outputs": [],
   "source": [
    "#\n",
    "# TODO: Create an RForest classifier 'model' and set n_estimators=30,\n",
    "# the max_depth to 10, and oob_score=True, and random_state=0\n",
    "#\n",
    "# .. your code here .."
   ]
  },
  {
   "cell_type": "code",
   "execution_count": null,
   "metadata": {
    "collapsed": true
   },
   "outputs": [],
   "source": [
    "# \n",
    "# TODO: Split your data into test / train sets\n",
    "# Your test size can be 30% with random_state 7\n",
    "# Use variable names: X_train, X_test, y_train, y_test\n",
    "#\n",
    "# .. your code here .."
   ]
  },
  {
   "cell_type": "code",
   "execution_count": null,
   "metadata": {
    "collapsed": true
   },
   "outputs": [],
   "source": [
    "print \"Fitting...\"\n",
    "s = time.time()\n",
    "#\n",
    "# TODO: train your model on your training set\n",
    "#\n",
    "# .. your code here ..\n",
    "print \"Fitting completed in: \", time.time() - s"
   ]
  },
  {
   "cell_type": "code",
   "execution_count": null,
   "metadata": {
    "collapsed": true
   },
   "outputs": [],
   "source": [
    "#\n",
    "# INFO: Display the OOB Score of your data\n",
    "score = model.oob_score_\n",
    "print \"OOB Score: \", round((score*100), 3)"
   ]
  },
  {
   "cell_type": "code",
   "execution_count": null,
   "metadata": {
    "collapsed": true
   },
   "outputs": [],
   "source": [
    "print \"Scoring...\"\n",
    "s = time.time()\n",
    "#\n",
    "# TODO: score your model on your test set\n",
    "#\n",
    "# .. your code here ..\n",
    "print \"Score: \", round((score*100), 3)\n",
    "print \"Scoring completed in: \", time.time() - s"
   ]
  },
  {
   "cell_type": "code",
   "execution_count": null,
   "metadata": {
    "collapsed": true
   },
   "outputs": [],
   "source": [
    "#\n",
    "# TODO: Answer the lab questions, then come back to experiment more"
   ]
  },
  {
   "cell_type": "code",
   "execution_count": null,
   "metadata": {
    "collapsed": true
   },
   "outputs": [],
   "source": [
    "#\n",
    "# TODO: Try playing around with the gender column\n",
    "# Encode it as Male:1, Female:0\n",
    "# Try encoding it to pandas dummies\n",
    "# Also try dropping it. See how it affects the score\n",
    "# This will be a key on how features affect your overall scoring\n",
    "# and why it's important to choose good ones."
   ]
  },
  {
   "cell_type": "code",
   "execution_count": null,
   "metadata": {
    "collapsed": true
   },
   "outputs": [],
   "source": [
    "#\n",
    "# TODO: After that, try messing with 'y'. Right now its encoded with\n",
    "# dummies try other encoding methods to experiment with the effect."
   ]
  },
  {
   "cell_type": "code",
   "execution_count": null,
   "metadata": {
    "collapsed": true
   },
   "outputs": [],
   "source": []
  },
  {
   "cell_type": "code",
   "execution_count": null,
   "metadata": {
    "collapsed": true
   },
   "outputs": [],
   "source": []
  }
 ],
 "metadata": {
  "kernelspec": {
   "display_name": "Python 2",
   "language": "python",
   "name": "python2"
  },
  "language_info": {
   "codemirror_mode": {
    "name": "ipython",
    "version": 2
   },
   "file_extension": ".py",
   "mimetype": "text/x-python",
   "name": "python",
   "nbconvert_exporter": "python",
   "pygments_lexer": "ipython2",
   "version": "2.7.12"
  }
 },
 "nbformat": 4,
 "nbformat_minor": 0
}
