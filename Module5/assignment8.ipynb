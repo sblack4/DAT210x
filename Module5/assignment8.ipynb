{
 "cells": [
  {
   "cell_type": "code",
   "execution_count": 1,
   "metadata": {
    "collapsed": false
   },
   "outputs": [
    {
     "name": "stderr",
     "output_type": "stream",
     "text": [
      "//anaconda/envs/python2/lib/python2.7/site-packages/matplotlib/font_manager.py:273: UserWarning: Matplotlib is building the font cache using fc-list. This may take a moment.\n",
      "  warnings.warn('Matplotlib is building the font cache using fc-list. This may take a moment.')\n"
     ]
    }
   ],
   "source": [
    "import pandas as pd\n",
    "import numpy as np\n",
    "import matplotlib\n",
    "import matplotlib.pyplot as plt\n",
    "\n",
    "matplotlib.style.use('ggplot') # Look Pretty\n",
    "\n",
    "\n",
    "def drawLine(model, X_test, y_test, title):\n",
    "  # This convenience method will take care of plotting your\n",
    "  # test observations, comparing them to the regression line,\n",
    "  # and displaying the R2 coefficient\n",
    "  fig = plt.figure()\n",
    "  ax = fig.add_subplot(111)\n",
    "  ax.scatter(X_test, y_test, c='g', marker='o')\n",
    "  ax.plot(X_test, model.predict(X_test), color='orange', linewidth=1, alpha=0.7)\n",
    "\n",
    "  print \"Est 2014 \" + title + \" Life Expectancy: \", model.predict([[2014]])[0]\n",
    "  print \"Est 2030 \" + title + \" Life Expectancy: \", model.predict([[2030]])[0]\n",
    "  print \"Est 2045 \" + title + \" Life Expectancy: \", model.predict([[2045]])[0]\n",
    "\n",
    "  score = model.score(X_test, y_test)\n",
    "  title += \" R2: \" + str(score)\n",
    "  ax.set_title(title)\n",
    "\n",
    "\n",
    "  plt.show()"
   ]
  },
  {
   "cell_type": "code",
   "execution_count": 4,
   "metadata": {
    "collapsed": false
   },
   "outputs": [
    {
     "name": "stdout",
     "output_type": "stream",
     "text": [
      "              Year  WhiteMale  WhiteFemale  BlackMale  BlackFemale\n",
      "count    40.000000  40.000000    40.000000  40.000000    40.000000\n",
      "mean   1991.250000  72.730000    78.592500  65.912500    73.262500\n",
      "std      20.536085   4.968681     5.200561   6.422284     7.157592\n",
      "min    1900.000000  46.600000    48.700000  32.500000    33.500000\n",
      "25%    1984.750000  71.800000    78.700000  64.575000    73.400000\n",
      "50%    1994.500000  73.350000    79.650000  65.250000    73.900000\n",
      "75%    2004.250000  75.500000    80.500000  69.425000    76.125000\n",
      "max    2014.000000  76.700000    81.400000  72.500000    78.400000\n"
     ]
    }
   ],
   "source": [
    "#\n",
    "# TODO: Load up the data here into a variable called 'X'.\n",
    "# As usual, do a .describe and a print of your dataset and\n",
    "# compare it to the dataset loaded in a text file or in a\n",
    "# spread sheet application\n",
    "#\n",
    "# .. your code here ..\n",
    "X = pd.read_csv('Datasets/life_expectancy.csv', sep='\\t')\n",
    "print(X.describe())"
   ]
  },
  {
   "cell_type": "code",
   "execution_count": 5,
   "metadata": {
    "collapsed": true
   },
   "outputs": [],
   "source": [
    "#\n",
    "# TODO: Create your linear regression model here and store it in a\n",
    "# variable called 'model'. Don't actually train or do anything else\n",
    "# with it yet:\n",
    "#\n",
    "# .. your code here ..\n",
    "from sklearn.linear_model import LinearRegression\n",
    "\n",
    "model = LinearRegression()"
   ]
  },
  {
   "cell_type": "code",
   "execution_count": 13,
   "metadata": {
    "collapsed": false
   },
   "outputs": [
    {
     "name": "stdout",
     "output_type": "stream",
     "text": [
      "   Year\n",
      "0  1900\n",
      "1  1950\n",
      "2  1960\n",
      "3  1970\n",
      "4  1975\n",
      "<class 'pandas.core.frame.DataFrame'>\n"
     ]
    }
   ],
   "source": [
    "#\n",
    "# TODO: Slice out your data manually (e.g. don't use train_test_split,\n",
    "# but actually do the Indexing yourself. Set X_train to be year values\n",
    "# LESS than 1986, and y_train to be corresponding WhiteMale age values.\n",
    "#\n",
    "# INFO You might also want to read the note about slicing on the bottom\n",
    "# of this document before proceeding.\n",
    "#\n",
    "# .. your code here ..\n",
    "X_train = X[['Year']][X['Year'] < 1986]\n",
    "print(X_train.head(5))\n",
    "print(type(X_train))\n",
    "y_train = X[['WhiteMale']][X['Year'] < 1986]"
   ]
  },
  {
   "cell_type": "code",
   "execution_count": 15,
   "metadata": {
    "collapsed": false
   },
   "outputs": [
    {
     "name": "stdout",
     "output_type": "stream",
     "text": [
      "Est 2014 WhiteMale Life Expectancy:  [ 80.85635426]\n",
      "Est 2030 WhiteMale Life Expectancy:  [ 85.39349384]\n",
      "Est 2045 WhiteMale Life Expectancy:  [ 89.6470622]\n"
     ]
    },
    {
     "data": {
      "image/png": "[encoded data removed]",
      "text/plain": [
       "<matplotlib.figure.Figure at 0x10e896450>"
      ]
     },
     "metadata": {},
     "output_type": "display_data"
    }
   ],
   "source": [
    "#\n",
    "# TODO: Train your model then pass it into drawLine with your training\n",
    "# set and labels. You can title it \"WhiteMale\". drawLine will output\n",
    "# to the console a 2014 extrapolation / approximation for what it\n",
    "# believes the WhiteMale's life expectancy in the U.S. will be...\n",
    "# given the pre-1986 data you trained it with. It'll also produce a\n",
    "# 2030 and 2045 extrapolation.\n",
    "#\n",
    "# .. your code here ..\n",
    "model.fit(X_train, y_train)\n",
    "drawLine(model, X_train, y_train, \"WhiteMale\")"
   ]
  },
  {
   "cell_type": "code",
   "execution_count": 17,
   "metadata": {
    "collapsed": false
   },
   "outputs": [
    {
     "name": "stdout",
     "output_type": "stream",
     "text": [
      "39    76.7\n",
      "Name: WhiteMale, dtype: float64\n"
     ]
    }
   ],
   "source": [
    "#\n",
    "# TODO: Print the actual 2014 WhiteMale life expectancy from your\n",
    "# loaded dataset\n",
    "#\n",
    "# .. your code here ..\n",
    "print(X['WhiteMale'][X['Year']==2014])"
   ]
  },
  {
   "cell_type": "code",
   "execution_count": null,
   "metadata": {
    "collapsed": true
   },
   "outputs": [],
   "source": [
    "# \n",
    "# TODO: Repeat the process, but instead of for WhiteMale, this time\n",
    "# select BlackFemale. Create a slice for BlackFemales, fit your\n",
    "# model, and then call drawLine. Lastly, print out the actual 2014\n",
    "# BlackFemale life expectancy\n",
    "#\n",
    "# .. your code here .."
   ]
  },
  {
   "cell_type": "code",
   "execution_count": 18,
   "metadata": {
    "collapsed": false
   },
   "outputs": [
    {
     "data": {
      "image/png": "[encoded data removed]",
      "text/plain": [
       "<matplotlib.figure.Figure at 0x10e8bfc50>"
      ]
     },
     "metadata": {},
     "output_type": "display_data"
    }
   ],
   "source": [
    "#\n",
    "# TODO: Lastly, print out a correlation matrix for your entire\n",
    "# dataset, and display a visualization of the correlation\n",
    "# matrix, just as we described in the visualization section of\n",
    "# the course\n",
    "#\n",
    "# .. your code here ..\n",
    "plt.imshow(X.corr(), cmap=plt.cm.Blues, interpolation='nearest')\n",
    "plt.colorbar()\n",
    "tick_marks = [i for i in range(len(X.columns))]\n",
    "plt.xticks(tick_marks, X.columns, rotation='vertical')\n",
    "plt.yticks(tick_marks, X.columns)\n",
    "\n",
    "plt.show()"
   ]
  },
  {
   "cell_type": "code",
   "execution_count": null,
   "metadata": {
    "collapsed": true
   },
   "outputs": [],
   "source": []
  },
  {
   "cell_type": "code",
   "execution_count": null,
   "metadata": {
    "collapsed": true
   },
   "outputs": [],
   "source": []
  },
  {
   "cell_type": "code",
   "execution_count": null,
   "metadata": {
    "collapsed": true
   },
   "outputs": [],
   "source": []
  },
  {
   "cell_type": "code",
   "execution_count": null,
   "metadata": {
    "collapsed": true
   },
   "outputs": [],
   "source": []
  },
  {
   "cell_type": "code",
   "execution_count": null,
   "metadata": {
    "collapsed": true
   },
   "outputs": [],
   "source": []
  },
  {
   "cell_type": "code",
   "execution_count": null,
   "metadata": {
    "collapsed": true
   },
   "outputs": [],
   "source": [
    "#\n",
    "# INFO + HINT On Fitting, Scoring, and Predicting:\n",
    "#\n",
    "# Here's a hint to help you complete the assignment without pulling\n",
    "# your hair out! When you use .fit(), .score(), and .predict() on\n",
    "# your model, SciKit-Learn expects your training data to be in\n",
    "# spreadsheet (2D Array-Like) form. This means you can't simply\n",
    "# pass in a 1D Array (slice) and get away with it.\n",
    "#\n",
    "# To properly prep your data, you have to pass in a 2D Numpy Array,\n",
    "# or a dataframe. But what happens if you really only want to pass\n",
    "# in a single feature?\n",
    "#\n",
    "# If you slice your dataframe using df[['ColumnName']] syntax, the\n",
    "# result that comes back is actually a *dataframe*. Go ahead and do\n",
    "# a type() on it to check it out. Since it's already a dataframe,\n",
    "# you're good -- no further changes needed.\n",
    "#\n",
    "# But if you slice your dataframe using the df.ColumnName syntax,\n",
    "# OR if you call df['ColumnName'], the result that comes back is\n",
    "# actually a series (1D Array)! This will cause SKLearn to bug out.\n",
    "# So if you are slicing using either of those two techniques, before\n",
    "# sending your training or testing data to .fit / .score, do a\n",
    "# my_column = my_column.reshape(-1,1). This will convert your 1D\n",
    "# array of [n_samples], to a 2D array shaped like [n_samples, 1].\n",
    "# A single feature, with many samples.\n",
    "#\n",
    "# If you did something like my_column = [my_column], that would produce\n",
    "# an array in the shape of [1, n_samples], which is incorrect because\n",
    "# SKLearn expects your data to be arranged as [n_samples, n_features].\n",
    "# Keep in mind, all of the above only relates to your \"X\" or input\n",
    "# data, and does not apply to your \"y\" or labels."
   ]
  }
 ],
 "metadata": {
  "kernelspec": {
   "display_name": "Python 2",
   "language": "python",
   "name": "python2"
  },
  "language_info": {
   "codemirror_mode": {
    "name": "ipython",
    "version": 2
   },
   "file_extension": ".py",
   "mimetype": "text/x-python",
   "name": "python",
   "nbconvert_exporter": "python",
   "pygments_lexer": "ipython2",
   "version": "2.7.12"
  }
 },
 "nbformat": 4,
 "nbformat_minor": 0
}
