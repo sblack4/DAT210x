{
 "cells": [
  {
   "cell_type": "markdown",
   "metadata": {},
   "source": [
    "# Lab 5"
   ]
  },
  {
   "cell_type": "code",
   "execution_count": 1,
   "metadata": {
    "collapsed": false
   },
   "outputs": [
    {
     "name": "stderr",
     "output_type": "stream",
     "text": [
      "//anaconda/envs/python2/lib/python2.7/site-packages/matplotlib/font_manager.py:273: UserWarning: Matplotlib is building the font cache using fc-list. This may take a moment.\n",
      "  warnings.warn('Matplotlib is building the font cache using fc-list. This may take a moment.')\n"
     ]
    }
   ],
   "source": [
    "import numpy as np\n",
    "import pandas as pd\n",
    "import matplotlib.pyplot as plt\n",
    "import matplotlib\n",
    "matplotlib.style.use('ggplot') # Look Pretty"
   ]
  },
  {
   "cell_type": "code",
   "execution_count": 2,
   "metadata": {
    "collapsed": true
   },
   "outputs": [],
   "source": [
    "def plotDecisionBoundary(model, X, y):\n",
    "  fig = plt.figure()\n",
    "  ax = fig.add_subplot(111)\n",
    "\n",
    "  padding = 0.6\n",
    "  resolution = 0.0025\n",
    "  colors = ['royalblue','forestgreen','ghostwhite']\n",
    "\n",
    "  # Calculate the boundaris\n",
    "  x_min, x_max = X[:, 0].min(), X[:, 0].max()\n",
    "  y_min, y_max = X[:, 1].min(), X[:, 1].max()\n",
    "  x_range = x_max - x_min\n",
    "  y_range = y_max - y_min\n",
    "  x_min -= x_range * padding\n",
    "  y_min -= y_range * padding\n",
    "  x_max += x_range * padding\n",
    "  y_max += y_range * padding\n",
    "\n",
    "  # Create a 2D Grid Matrix. The values stored in the matrix\n",
    "  # are the predictions of the class at at said location\n",
    "  xx, yy = np.meshgrid(np.arange(x_min, x_max, resolution),\n",
    "                       np.arange(y_min, y_max, resolution))\n",
    "\n",
    "  # What class does the classifier say?\n",
    "  Z = model.predict(np.c_[xx.ravel(), yy.ravel()])\n",
    "  Z = Z.reshape(xx.shape)\n",
    "\n",
    "  # Plot the contour map\n",
    "  cs = plt.contourf(xx, yy, Z, cmap=plt.cm.terrain)\n",
    "\n",
    "  # Plot the test original points as well...\n",
    "  for label in range(len(np.unique(y))):\n",
    "    indices = np.where(y == label)\n",
    "    plt.scatter(X[indices, 0], X[indices, 1], c=colors[label], label=str(label), alpha=0.8)\n",
    "\n",
    "  p = model.get_params()\n",
    "  plt.axis('tight')\n",
    "  plt.title('K = ' + str(p['n_neighbors']))"
   ]
  },
  {
   "cell_type": "code",
   "execution_count": 52,
   "metadata": {
    "collapsed": true
   },
   "outputs": [],
   "source": [
    "# \n",
    "# TODO: Load up the dataset into a variable called X. Check the .head and\n",
    "# compare it to the file you loaded in a text editor. Make sure you're\n",
    "# loading your data properly--don't fail on the 1st step!\n",
    "#\n",
    "# .. your code here ..\n",
    "x = pd.read_csv('Datasets/wheat.data')"
   ]
  },
  {
   "cell_type": "code",
   "execution_count": 53,
   "metadata": {
    "collapsed": false
   },
   "outputs": [
    {
     "name": "stdout",
     "output_type": "stream",
     "text": [
      "   id   area  perimeter  compactness  length  width  asymmetry  groove  \\\n",
      "0   0  15.26      14.84       0.8710   5.763  3.312      2.221   5.220   \n",
      "1   1  14.88      14.57       0.8811   5.554  3.333      1.018   4.956   \n",
      "2   2  14.29      14.09       0.9050   5.291  3.337      2.699   4.825   \n",
      "3   3  13.84      13.94       0.8955   5.324  3.379      2.259   4.805   \n",
      "4   4  16.14      14.99       0.9034   5.658  3.562      1.355   5.175   \n",
      "\n",
      "  wheat_type  \n",
      "0       kama  \n",
      "1       kama  \n",
      "2       kama  \n",
      "3       kama  \n",
      "4       kama  \n"
     ]
    }
   ],
   "source": [
    "print(x.head())"
   ]
  },
  {
   "cell_type": "code",
   "execution_count": 54,
   "metadata": {
    "collapsed": false
   },
   "outputs": [
    {
     "name": "stdout",
     "output_type": "stream",
     "text": [
      "x\n",
      "   id   area  perimeter  compactness  length  width  asymmetry  groove\n",
      "0   0  15.26      14.84       0.8710   5.763  3.312      2.221   5.220\n",
      "1   1  14.88      14.57       0.8811   5.554  3.333      1.018   4.956\n",
      "2   2  14.29      14.09       0.9050   5.291  3.337      2.699   4.825\n",
      "3   3  13.84      13.94       0.8955   5.324  3.379      2.259   4.805\n",
      "4   4  16.14      14.99       0.9034   5.658  3.562      1.355   5.175\n",
      "               id        area   perimeter  compactness      length  \\\n",
      "count  210.000000  210.000000  210.000000   207.000000  210.000000   \n",
      "mean   104.500000   14.847524   14.559286     0.871280    5.563918   \n",
      "std     60.765944    2.909699    1.305959     0.023306    0.719594   \n",
      "min      0.000000   10.590000   12.410000     0.808100    0.818900   \n",
      "25%     52.250000   12.270000   13.450000     0.857700    5.244750   \n",
      "50%    104.500000   14.355000   14.320000     0.873500    5.518000   \n",
      "75%    156.750000   17.305000   15.715000     0.887650    5.979750   \n",
      "max    209.000000   21.180000   17.250000     0.918300    6.675000   \n",
      "\n",
      "            width   asymmetry      groove  \n",
      "count  209.000000  210.000000  206.000000  \n",
      "mean     3.281440    3.693530    5.407529  \n",
      "std      0.419907    1.495112    0.532330  \n",
      "min      2.630000    0.765100    3.485000  \n",
      "25%      2.956000    2.600250    5.045000  \n",
      "50%      3.245000    3.599000    5.226000  \n",
      "75%      3.566000    4.768750    5.879000  \n",
      "max      5.325000    8.456000    6.735000  \n",
      "y\n",
      "0    kama\n",
      "1    kama\n",
      "2    kama\n",
      "3    kama\n",
      "4    kama\n",
      "Name: wheat_type, dtype: object\n",
      "count          210\n",
      "unique           3\n",
      "top       canadian\n",
      "freq            76\n",
      "Name: wheat_type, dtype: object\n"
     ]
    }
   ],
   "source": [
    "#\n",
    "# TODO: Copy the 'wheat_type' series slice out of X, and into a series\n",
    "# called 'y'. Then drop the original 'wheat_type' column from the X\n",
    "#\n",
    "# .. your code here ..\n",
    "y = x['wheat_type']\n",
    "x = x.drop('wheat_type', 1)\n",
    "print('x')\n",
    "print(x.head())\n",
    "print(x.describe())\n",
    "print('y')\n",
    "print(y.head())\n",
    "print(y.describe())"
   ]
  },
  {
   "cell_type": "code",
   "execution_count": 31,
   "metadata": {
    "collapsed": false
   },
   "outputs": [
    {
     "name": "stdout",
     "output_type": "stream",
     "text": [
      "0      1\n",
      "1      1\n",
      "2      1\n",
      "3      1\n",
      "4      1\n",
      "5      1\n",
      "6      1\n",
      "7      2\n",
      "8      1\n",
      "9      1\n",
      "10     1\n",
      "11     1\n",
      "12     1\n",
      "13     1\n",
      "14     1\n",
      "15     1\n",
      "16     1\n",
      "17     1\n",
      "18     1\n",
      "19     1\n",
      "20     1\n",
      "21     1\n",
      "22     1\n",
      "23     1\n",
      "24     1\n",
      "25     1\n",
      "26     1\n",
      "27     1\n",
      "28     1\n",
      "29     1\n",
      "      ..\n",
      "180    2\n",
      "181    2\n",
      "182    2\n",
      "183    2\n",
      "184    2\n",
      "185    2\n",
      "186    2\n",
      "187    2\n",
      "188    2\n",
      "189    2\n",
      "190    2\n",
      "191    2\n",
      "192    2\n",
      "193    2\n",
      "194    2\n",
      "195    2\n",
      "196    2\n",
      "197    2\n",
      "198    2\n",
      "199    2\n",
      "200    2\n",
      "201    2\n",
      "202    2\n",
      "203    2\n",
      "204    2\n",
      "205    2\n",
      "206    2\n",
      "207    2\n",
      "208    2\n",
      "209    2\n",
      "Name: wheat_type, dtype: category\n",
      "Categories (3, int64): [2 < 1 < 3]\n"
     ]
    }
   ],
   "source": [
    "# TODO: Do a quick, \"ordinal\" conversion of 'y'. In actuality our\n",
    "# classification isn't ordinal, but just as an experiment...\n",
    "#\n",
    "# .. your code here ..\n",
    "#y = y.astype('category', ordered=True)\n",
    "y = y.apply({'kama':1, 'canadian':2, 'rosa':3}.get)\n",
    "print(y)"
   ]
  },
  {
   "cell_type": "code",
   "execution_count": 55,
   "metadata": {
    "collapsed": false
   },
   "outputs": [
    {
     "name": "stdout",
     "output_type": "stream",
     "text": [
      "104.5\n",
      "14.8475238095\n",
      "14.5592857143\n",
      "0.871279710145\n",
      "5.56391809524\n",
      "3.28144019139\n",
      "3.69352952381\n",
      "5.40752912621\n",
      "               id        area   perimeter  compactness      length  \\\n",
      "count  210.000000  210.000000  210.000000   210.000000  210.000000   \n",
      "mean   104.500000   14.847524   14.559286     0.871280    5.563918   \n",
      "std     60.765944    2.909699    1.305959     0.023138    0.719594   \n",
      "min      0.000000   10.590000   12.410000     0.808100    0.818900   \n",
      "25%     52.250000   12.270000   13.450000     0.857925    5.244750   \n",
      "50%    104.500000   14.355000   14.320000     0.873100    5.518000   \n",
      "75%    156.750000   17.305000   15.715000     0.887325    5.979750   \n",
      "max    209.000000   21.180000   17.250000     0.918300    6.675000   \n",
      "\n",
      "            width   asymmetry      groove  \n",
      "count  210.000000  210.000000  210.000000  \n",
      "mean     3.281440    3.693530    5.407529  \n",
      "std      0.418901    1.495112    0.527211  \n",
      "min      2.630000    0.765100    3.485000  \n",
      "25%      2.957000    2.600250    5.045250  \n",
      "50%      3.251500    3.599000    5.247000  \n",
      "75%      3.565250    4.768750    5.878500  \n",
      "max      5.325000    8.456000    6.735000  \n"
     ]
    }
   ],
   "source": [
    "#\n",
    "# TODO: Basic nan munging. Fill each row's nans with the mean of the feature\n",
    "#\n",
    "# .. your code here ..\n",
    "for column in x.columns:\n",
    "    print(x[column].mean())\n",
    "    x[column] = x[column].fillna(x[column].mean())\n",
    "print(x.describe())"
   ]
  },
  {
   "cell_type": "code",
   "execution_count": 33,
   "metadata": {
    "collapsed": true
   },
   "outputs": [],
   "source": [
    "#\n",
    "# TODO: Split X into training and testing data sets using train_test_split().\n",
    "# INFO: Use 0.33 test size, and use random_state=1. This is important\n",
    "# so that your answers are verifiable. In the real world, you wouldn't\n",
    "# specify a random_state.\n",
    "#\n",
    "# .. your code here ..\n",
    "from sklearn.model_selection import train_test_split\n",
    "data_train, data_test, label_train, label_test = train_test_split(x, y, test_size=0.33, random_state=1)"
   ]
  },
  {
   "cell_type": "code",
   "execution_count": 34,
   "metadata": {
    "collapsed": false
   },
   "outputs": [],
   "source": [
    "# \n",
    "# TODO: Create an instance of SKLearn's Normalizer class and then train it\n",
    "# using its .fit() method against your *training* data.\n",
    "#\n",
    "# NOTE: The reason you only fit against your training data is because in a\n",
    "# real-world situation, you'll only have your training data to train with!\n",
    "# In this lab setting, you have both train+test data; but in the wild,\n",
    "# you'll only have your training data, and then unlabeled data you want to\n",
    "# apply your models to.\n",
    "#\n",
    "# .. your code here ..\n",
    "import sklearn as sk\n",
    "normalizer = sk.preprocessing.Normalizer().fit(data_train)\n"
   ]
  },
  {
   "cell_type": "code",
   "execution_count": 35,
   "metadata": {
    "collapsed": true
   },
   "outputs": [],
   "source": [
    "#\n",
    "# TODO: With your trained pre-processor, transform both your training AND\n",
    "# testing data.\n",
    "#\n",
    "# NOTE: Any testing data has to be transformed with your preprocessor\n",
    "# that has ben fit against your training data, so that it exist in the same\n",
    "# feature-space as the original data used to train your models.\n",
    "#\n",
    "# .. your code here ..\n",
    "xTrainN = normalizer.transform(data_train)\n",
    "xTestN = normalizer.transform(data_test)"
   ]
  },
  {
   "cell_type": "code",
   "execution_count": 45,
   "metadata": {
    "collapsed": false
   },
   "outputs": [
    {
     "data": {
      "text/plain": [
       "PCA(copy=True, iterated_power='auto', n_components=2, random_state=1,\n",
       "  svd_solver='auto', tol=0.0, whiten=False)"
      ]
     },
     "execution_count": 45,
     "metadata": {},
     "output_type": "execute_result"
    }
   ],
   "source": [
    "#\n",
    "# TODO: Just like your preprocessing transformation, create a PCA\n",
    "# transformation as well. Fit it against your training data, and then\n",
    "# project your training and testing features into PCA space using the\n",
    "# PCA model's .transform() method.\n",
    "#\n",
    "# NOTE: This has to be done because the only way to visualize the decision\n",
    "# boundary in 2D would be if your KNN algo ran in 2D as well:\n",
    "#\n",
    "# .. your code here ..\n",
    "from sklearn.decomposition import PCA\n",
    "pca = PCA(n_components=2, random_state=1)\n",
    "pca.fit(xTrainN)"
   ]
  },
  {
   "cell_type": "code",
   "execution_count": 46,
   "metadata": {
    "collapsed": true
   },
   "outputs": [],
   "source": [
    "xTrainNP = pca.transform(xTrainN)\n",
    "xTestNP = pca.transform(xTestN)"
   ]
  },
  {
   "cell_type": "code",
   "execution_count": 47,
   "metadata": {
    "collapsed": false
   },
   "outputs": [
    {
     "data": {
      "text/plain": [
       "KNeighborsClassifier(algorithm='auto', leaf_size=30, metric='minkowski',\n",
       "           metric_params=None, n_jobs=1, n_neighbors=9, p=2,\n",
       "           weights='uniform')"
      ]
     },
     "execution_count": 47,
     "metadata": {},
     "output_type": "execute_result"
    }
   ],
   "source": [
    "#\n",
    "# TODO: Create and train a KNeighborsClassifier. Start with K=9 neighbors.\n",
    "# NOTE: Be sure train your classifier against the pre-processed, PCA-\n",
    "# transformed training data above! You do not, of course, need to transform\n",
    "# your labels.\n",
    "#\n",
    "# .. your code here ..\n",
    "from sklearn.neighbors import KNeighborsClassifier\n",
    "\n",
    "knn = KNeighborsClassifier(n_neighbors=9)\n",
    "knn.fit(xTrainNP, label_train)"
   ]
  },
  {
   "cell_type": "code",
   "execution_count": 48,
   "metadata": {
    "collapsed": false
   },
   "outputs": [],
   "source": [
    "# HINT: Ensure your KNeighbors classifier object from earlier is called 'knn'\n",
    "plotDecisionBoundary(knn, xTrainNP, label_train)"
   ]
  },
  {
   "cell_type": "code",
   "execution_count": 49,
   "metadata": {
    "collapsed": false
   },
   "outputs": [
    {
     "data": {
      "image/png": "[encoded data removed]",
      "text/plain": [
       "<matplotlib.figure.Figure at 0x116c19c10>"
      ]
     },
     "metadata": {},
     "output_type": "display_data"
    }
   ],
   "source": [
    "plt.show()"
   ]
  },
  {
   "cell_type": "code",
   "execution_count": 50,
   "metadata": {
    "collapsed": false
   },
   "outputs": [
    {
     "name": "stdout",
     "output_type": "stream",
     "text": [
      "0.928571428571\n",
      "[2 3 3 1 1 1 2 2 1 2 3 2 1 3 3 2 3 2 3 1 3 3 3 2 2 3 2 2 1 2 3 2 2 1 3 3 1\n",
      " 2 2 2 3 2 2 3 2 3 1 3 2 1 3 3 2 1 2 3 1 2 3 3 3 1 3 3 2 3 2 1 1 3 3 2 3 3\n",
      " 1 3 1 2 3 2 3 3 2 3 1 1 2 3 3 1 1 3 1 1 1 2 1 2 3 2 1 3 3 2 1 3 3 1 3 1 3\n",
      " 3 1 2 2 3 3 3 1 2 2 2 3 2 3 1 2 1 3 3 3 2 2 3 3 2 3 3 2 1]\n"
     ]
    }
   ],
   "source": [
    "#------------------------------------\n",
    "#\n",
    "# TODO: Display the accuracy score of your test data/labels, computed by\n",
    "# your KNeighbors model.\n",
    "#\n",
    "# NOTE: You do NOT have to run .predict before calling .score, since\n",
    "# .score will take care of running your predictions for you automatically.\n",
    "#\n",
    "# .. your code here ..\n",
    "score = knn.score(xTrainNP, label_train)\n",
    "print(score)\n",
    "print(knn.predict(xTrainNP))"
   ]
  },
  {
   "cell_type": "code",
   "execution_count": null,
   "metadata": {
    "collapsed": true
   },
   "outputs": [],
   "source": [
    "#\n",
    "# BONUS: Instead of the ordinal conversion, try and get this assignment\n",
    "# working with a proper Pandas get_dummies for feature encoding. HINT:\n",
    "# You might have to update some of the plotDecisionBoundary code.\n",
    "\n",
    "\n",
    "plt.show()"
   ]
  },
  {
   "cell_type": "code",
   "execution_count": 51,
   "metadata": {
    "collapsed": false
   },
   "outputs": [
    {
     "name": "stdout",
     "output_type": "stream",
     "text": [
      "\n",
      " 1 score: \n",
      "1.0\n",
      "\n",
      " 2 score: \n",
      "0.95\n",
      "\n",
      " 3 score: \n",
      "0.935714285714\n",
      "\n",
      " 4 score: \n",
      "0.942857142857\n",
      "\n",
      " 5 score: \n",
      "0.921428571429\n",
      "\n",
      " 6 score: \n",
      "0.928571428571\n",
      "\n",
      " 7 score: \n",
      "0.928571428571\n",
      "\n",
      " 8 score: \n",
      "0.928571428571\n",
      "\n",
      " 9 score: \n",
      "0.928571428571\n"
     ]
    }
   ],
   "source": [
    "for i in range(1,10):\n",
    "    knn = KNeighborsClassifier(n_neighbors=i)\n",
    "    knn.fit(xTrainNP, label_train)\n",
    "    score = knn.score(xTrainNP, label_train)\n",
    "    print('\\n %d score: ' % i)\n",
    "    print(score)"
   ]
  },
  {
   "cell_type": "code",
   "execution_count": null,
   "metadata": {
    "collapsed": true
   },
   "outputs": [],
   "source": []
  },
  {
   "cell_type": "code",
   "execution_count": null,
   "metadata": {
    "collapsed": true
   },
   "outputs": [],
   "source": []
  },
  {
   "cell_type": "code",
   "execution_count": null,
   "metadata": {
    "collapsed": true
   },
   "outputs": [],
   "source": []
  }
 ],
 "metadata": {
  "kernelspec": {
   "display_name": "Python 2",
   "language": "python",
   "name": "python2"
  },
  "language_info": {
   "codemirror_mode": {
    "name": "ipython",
    "version": 2
   },
   "file_extension": ".py",
   "mimetype": "text/x-python",
   "name": "python",
   "nbconvert_exporter": "python",
   "pygments_lexer": "ipython2",
   "version": "2.7.12"
  }
 },
 "nbformat": 4,
 "nbformat_minor": 0
}
