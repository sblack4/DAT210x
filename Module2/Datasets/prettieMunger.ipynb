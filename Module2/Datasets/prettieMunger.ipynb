{
 "cells": [
  {
   "cell_type": "code",
   "execution_count": 1,
   "metadata": {
    "collapsed": true
   },
   "outputs": [],
   "source": [
    "import pandas as pd"
   ]
  },
  {
   "cell_type": "code",
   "execution_count": 2,
   "metadata": {
    "collapsed": true
   },
   "outputs": [],
   "source": [
    "df = pd.read_csv('direct_marketing.csv')"
   ]
  },
  {
   "cell_type": "code",
   "execution_count": 13,
   "metadata": {
    "collapsed": false
   },
   "outputs": [
    {
     "name": "stdout",
     "output_type": "stream",
     "text": [
      "Index(['recency', 'history_segment', 'history', 'mens', 'womens', 'zip_code',\n",
      "       'newbie', 'channel', 'segment', 'visit', 'conversion', 'spend',\n",
      "       'DM_category'],\n",
      "      dtype='object')\n",
      "<bound method NDFrame.head of        recency   history_segment  history  mens  womens   zip_code  newbie  \\\n",
      "0           10    2) $100 - $200   142.44     1       0  Surburban       0   \n",
      "1            6    3) $200 - $350   329.08     1       1      Rural       1   \n",
      "2            7    2) $100 - $200   180.65     0       1  Surburban       1   \n",
      "3            9    5) $500 - $750   675.83     1       0      Rural       1   \n",
      "4            2      1) $0 - $100    45.34     1       0      Urban       0   \n",
      "5            6    2) $100 - $200   134.83     0       1  Surburban       0   \n",
      "6            9    3) $200 - $350   280.20     1       0  Surburban       1   \n",
      "7            9      1) $0 - $100    46.42     0       1      Urban       0   \n",
      "8            9    5) $500 - $750   675.07     1       1      Rural       1   \n",
      "9           10      1) $0 - $100    32.84     0       1      Urban       1   \n",
      "10           7    5) $500 - $750   548.91     0       1      Urban       1   \n",
      "11           1    3) $200 - $350   211.45     0       1      Urban       1   \n",
      "12           5    5) $500 - $750   642.90     0       1  Surburban       1   \n",
      "13           2    2) $100 - $200   101.64     0       1      Urban       0   \n",
      "14           4    3) $200 - $350   241.42     0       1      Rural       1   \n",
      "15           3      1) $0 - $100    58.13     1       0      Urban       1   \n",
      "16           5      1) $0 - $100    29.99     1       0  Surburban       0   \n",
      "17           9    2) $100 - $200   112.35     1       0      Rural       0   \n",
      "18          11    3) $200 - $350   219.04     1       1  Surburban       0   \n",
      "19           5  6) $750 - $1,000   828.42     1       0  Surburban       1   \n",
      "20           9      1) $0 - $100    29.99     0       1  Surburban       1   \n",
      "21          11    2) $100 - $200   182.32     1       0  Surburban       0   \n",
      "22           2    2) $100 - $200   118.40     1       0  Surburban       0   \n",
      "23           2      1) $0 - $100    29.99     0       1      Urban       1   \n",
      "24           4      1) $0 - $100    78.24     1       0  Surburban       0   \n",
      "25           6    2) $100 - $200   139.87     0       1      Rural       1   \n",
      "26          12    2) $100 - $200   115.39     0       1  Surburban       0   \n",
      "27           6    2) $100 - $200   162.98     0       1  Surburban       0   \n",
      "28           7    4) $350 - $500   435.73     0       1      Urban       1   \n",
      "29           2    3) $200 - $350   203.35     1       0      Rural       0   \n",
      "...        ...               ...      ...   ...     ...        ...     ...   \n",
      "63970        4    2) $100 - $200   191.15     0       1  Surburban       1   \n",
      "63971        5    5) $500 - $750   549.87     0       1  Surburban       1   \n",
      "63972        3    5) $500 - $750   554.97     0       1  Surburban       1   \n",
      "63973        8    4) $350 - $500   471.80     1       0  Surburban       1   \n",
      "63974        8      1) $0 - $100    73.65     0       1  Surburban       0   \n",
      "63975       10  6) $750 - $1,000   883.92     1       0      Urban       1   \n",
      "63976        1    5) $500 - $750   710.72     1       1      Urban       1   \n",
      "63977        8      1) $0 - $100    29.99     0       1  Surburban       0   \n",
      "63978       10    2) $100 - $200   102.01     0       1      Urban       1   \n",
      "63979       10    2) $100 - $200   168.21     0       1  Surburban       0   \n",
      "63980        3    4) $350 - $500   487.10     0       1  Surburban       1   \n",
      "63981        4    2) $100 - $200   125.53     0       1      Rural       1   \n",
      "63982        5      1) $0 - $100    29.99     1       0      Urban       1   \n",
      "63983        2      1) $0 - $100    83.03     0       1      Urban       0   \n",
      "63984        2    3) $200 - $350   209.51     0       1      Urban       1   \n",
      "63985        9      1) $0 - $100    29.99     1       0      Urban       0   \n",
      "63986        9      1) $0 - $100    35.26     0       1      Urban       1   \n",
      "63987        1      1) $0 - $100    79.70     1       0  Surburban       1   \n",
      "63988        6      1) $0 - $100    32.98     1       0  Surburban       0   \n",
      "63989       10    3) $200 - $350   304.30     1       1  Surburban       0   \n",
      "63990        6      1) $0 - $100    80.02     0       1  Surburban       0   \n",
      "63991        1    3) $200 - $350   306.10     1       0  Surburban       1   \n",
      "63992        1    5) $500 - $750   519.69     1       1      Urban       1   \n",
      "63993        4    4) $350 - $500   374.07     0       1  Surburban       0   \n",
      "63994        7      1) $0 - $100    86.46     0       1      Urban       0   \n",
      "63995       10    2) $100 - $200   105.54     1       0      Urban       0   \n",
      "63996        5      1) $0 - $100    38.91     0       1      Urban       1   \n",
      "63997        6      1) $0 - $100    29.99     1       0      Urban       1   \n",
      "63998        1    5) $500 - $750   552.94     1       0  Surburban       1   \n",
      "63999        1    4) $350 - $500   472.82     0       1  Surburban       0   \n",
      "\n",
      "            channel        segment  visit  conversion  spend  DM_category  \n",
      "0             Phone  Womens E-Mail      0           0    0.0            4  \n",
      "1               Web      No E-Mail      0           0    0.0           11  \n",
      "2               Web  Womens E-Mail      0           0    0.0            1  \n",
      "3               Web    Mens E-Mail      0           0    0.0            2  \n",
      "4               Web  Womens E-Mail      0           0    0.0            4  \n",
      "5             Phone  Womens E-Mail      1           0    0.0            1  \n",
      "6             Phone  Womens E-Mail      0           0    0.0            4  \n",
      "7             Phone  Womens E-Mail      0           0    0.0            1  \n",
      "8             Phone    Mens E-Mail      0           0    0.0            5  \n",
      "9               Web  Womens E-Mail      0           0    0.0            1  \n",
      "10            Phone  Womens E-Mail      1           0    0.0            1  \n",
      "11            Phone  Womens E-Mail      0           0    0.0            1  \n",
      "12     Multichannel  Womens E-Mail      0           0    0.0            1  \n",
      "13              Web    Mens E-Mail      1           0    0.0            3  \n",
      "14     Multichannel      No E-Mail      0           0    0.0            5  \n",
      "15              Web      No E-Mail      1           0    0.0            6  \n",
      "16            Phone    Mens E-Mail      0           0    0.0            2  \n",
      "17              Web    Mens E-Mail      0           0    0.0            2  \n",
      "18            Phone    Mens E-Mail      0           0    0.0            5  \n",
      "19     Multichannel    Mens E-Mail      0           0    0.0            2  \n",
      "20            Phone      No E-Mail      0           0    0.0            5  \n",
      "21            Phone    Mens E-Mail      0           0    0.0            2  \n",
      "22              Web    Mens E-Mail      1           0    0.0            2  \n",
      "23            Phone      No E-Mail      0           0    0.0            5  \n",
      "24              Web      No E-Mail      0           0    0.0            6  \n",
      "25              Web    Mens E-Mail      0           0    0.0            3  \n",
      "26            Phone    Mens E-Mail      1           0    0.0            3  \n",
      "27              Web    Mens E-Mail      0           0    0.0            3  \n",
      "28              Web      No E-Mail      0           0    0.0            5  \n",
      "29              Web      No E-Mail      0           0    0.0            6  \n",
      "...             ...            ...    ...         ...    ...          ...  \n",
      "63970           Web  Womens E-Mail      0           0    0.0            1  \n",
      "63971         Phone  Womens E-Mail      0           0    0.0            1  \n",
      "63972           Web      No E-Mail      0           0    0.0            5  \n",
      "63973  Multichannel  Womens E-Mail      0           0    0.0            4  \n",
      "63974         Phone    Mens E-Mail      0           0    0.0            3  \n",
      "63975         Phone      No E-Mail      0           0    0.0            6  \n",
      "63976         Phone      No E-Mail      0           0    0.0           11  \n",
      "63977           Web      No E-Mail      1           0    0.0            5  \n",
      "63978         Phone    Mens E-Mail      0           0    0.0            3  \n",
      "63979         Phone      No E-Mail      0           0    0.0            5  \n",
      "63980         Phone      No E-Mail      0           0    0.0            5  \n",
      "63981         Phone      No E-Mail      0           0    0.0            5  \n",
      "63982         Phone    Mens E-Mail      0           0    0.0            2  \n",
      "63983         Phone      No E-Mail      0           0    0.0            5  \n",
      "63984           Web  Womens E-Mail      0           0    0.0            1  \n",
      "63985         Phone    Mens E-Mail      1           0    0.0            2  \n",
      "63986           Web  Womens E-Mail      0           0    0.0            1  \n",
      "63987           Web      No E-Mail      0           0    0.0            6  \n",
      "63988           Web    Mens E-Mail      0           0    0.0            2  \n",
      "63989           Web  Womens E-Mail      1           0    0.0            5  \n",
      "63990         Phone      No E-Mail      0           0    0.0            5  \n",
      "63991         Phone  Womens E-Mail      0           0    0.0            4  \n",
      "63992         Phone    Mens E-Mail      0           0    0.0            5  \n",
      "63993         Phone  Womens E-Mail      0           0    0.0            1  \n",
      "63994           Web    Mens E-Mail      0           0    0.0            3  \n",
      "63995           Web    Mens E-Mail      0           0    0.0            2  \n",
      "63996         Phone    Mens E-Mail      0           0    0.0            3  \n",
      "63997         Phone    Mens E-Mail      0           0    0.0            2  \n",
      "63998  Multichannel  Womens E-Mail      0           0    0.0            4  \n",
      "63999           Web    Mens E-Mail      0           0    0.0            3  \n",
      "\n",
      "[64000 rows x 13 columns]>\n"
     ]
    }
   ],
   "source": [
    "print(df.columns)\n",
    "\n",
    "print(df.head)"
   ]
  },
  {
   "cell_type": "code",
   "execution_count": 12,
   "metadata": {
    "collapsed": false
   },
   "outputs": [
    {
     "name": "stdout",
     "output_type": "stream",
     "text": [
      "   recency history_segment  history\n",
      "0       10  2) $100 - $200   142.44\n",
      "1        6  3) $200 - $350   329.08\n",
      "2        7  2) $100 - $200   180.65\n",
      "3        9  5) $500 - $750   675.83\n",
      "4        2    1) $0 - $100    45.34\n",
      "5        6  2) $100 - $200   134.83\n",
      "6        9  3) $200 - $350   280.20\n"
     ]
    }
   ],
   "source": [
    "print(df.loc[0:6,['recency', 'history_segment', 'history']])"
   ]
  },
  {
   "cell_type": "code",
   "execution_count": null,
   "metadata": {
    "collapsed": true
   },
   "outputs": [],
   "source": []
  },
  {
   "cell_type": "code",
   "execution_count": null,
   "metadata": {
    "collapsed": true
   },
   "outputs": [],
   "source": []
  },
  {
   "cell_type": "code",
   "execution_count": null,
   "metadata": {
    "collapsed": true
   },
   "outputs": [],
   "source": []
  }
 ],
 "metadata": {
  "kernelspec": {
   "display_name": "Python 3",
   "language": "python",
   "name": "python3"
  },
  "language_info": {
   "codemirror_mode": {
    "name": "ipython",
    "version": 3
   },
   "file_extension": ".py",
   "mimetype": "text/x-python",
   "name": "python",
   "nbconvert_exporter": "python",
   "pygments_lexer": "ipython3",
   "version": "3.5.2"
  }
 },
 "nbformat": 4,
 "nbformat_minor": 0
}
